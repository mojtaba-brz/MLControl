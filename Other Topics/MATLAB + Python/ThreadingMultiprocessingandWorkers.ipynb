{
 "cells": [
  {
   "cell_type": "markdown",
   "id": "0",
   "metadata": {},
   "source": [
    "# Threading, Multiprocessing, and Workers\n",
    "\n",
    "#### Refs: \n",
    "- [Sharif University of Technology - Deep Reinforcement Learning (Fall 2024) - Dr.A.Emami and M.Narimani](https://github.com/mnarimani/DRL_Fall2024_SUT)\n",
    "- DeepSeek helps for python syntaxes\n",
    "\n",
    "**Results :**\n",
    "- Threading and Multiprocessing are two different concepts \n",
    "- multiprocessing and ProcessPoolExecutor are the fastest for multi core CPUs"
   ]
  },
  {
   "cell_type": "code",
   "execution_count": null,
   "id": "1",
   "metadata": {},
   "outputs": [],
   "source": [
    "import time\n",
    "import threading\n",
    "import multiprocessing\n",
    "from concurrent.futures import ThreadPoolExecutor, ProcessPoolExecutor\n",
    "import math"
   ]
  },
  {
   "cell_type": "code",
   "execution_count": null,
   "id": "2",
   "metadata": {},
   "outputs": [],
   "source": [
    "def dummy_task(start, end):\n",
    "    sum(math.sqrt(x) for x in range(start, end))\n",
    "    \n",
    "# -----------------------------------------------------------------------------------------------------------\n",
    "print(\"Sequential call:\")\n",
    "t_start = time.time()\n",
    "dummy_task(0, int(3e6))\n",
    "t_end = time.time()\n",
    "print(f\"Elapsed time of a single call = {t_end - t_start}\")\n",
    "\n",
    "t_start = time.time()\n",
    "for i in range(10):\n",
    "    dummy_task(0, int(3e6))\n",
    "t_end = time.time()\n",
    "print(f\"Elapsed time of ten times calls = {t_end - t_start}\")\n",
    "\n",
    "# -----------------------------------------------------------------------------------------------------------\n",
    "print(\"\\n\\nThreading:\")\n",
    "threads = []\n",
    "t_start = time.time()\n",
    "for i in range(10):\n",
    "    threads += [threading.Thread(target=dummy_task, args=(0, int(3e6)))]\n",
    "    threads[-1].start()\n",
    "    \n",
    "# Wait for all threads to complete\n",
    "for thread in threads:\n",
    "    thread.join()\n",
    "t_end = time.time()\n",
    "print(f\"Elapsed time of ten times calls = {t_end - t_start}\")\n",
    "    \n",
    "# -----------------------------------------------------------------------------------------------------------\n",
    "print(\"\\n\\nMultiprocessing:\")\n",
    "processes = []\n",
    "t_start = time.time()\n",
    "for i in range(10):\n",
    "    process = multiprocessing.Process(target=dummy_task, args=(0, int(3e6)))\n",
    "    processes.append(process)\n",
    "    process.start()\n",
    "\n",
    "for process in processes:\n",
    "    process.join()\n",
    "t_end = time.time()\n",
    "print(f\"Elapsed time of ten times calls = {t_end - t_start}\")\n",
    "\n",
    "# -----------------------------------------------------------------------------------------------------------\n",
    "print(\"\\n\\nThreadPoolExecutor:\")\n",
    "t_start = time.time()\n",
    "with ThreadPoolExecutor(max_workers=multiprocessing.cpu_count()) as executor:\n",
    "    for i in range(10):\n",
    "        executor.submit(dummy_task, 0, int(3e6))\n",
    "t_end = time.time()\n",
    "print(f\"Elapsed time of ten times calls = {t_end - t_start}\")\n",
    "\n",
    "# -----------------------------------------------------------------------------------------------------------\n",
    "print(\"\\n\\nProcessPoolExecutor:\")\n",
    "t_start = time.time()\n",
    "with ProcessPoolExecutor(max_workers=multiprocessing.cpu_count()) as executor:\n",
    "    for i in range(10):\n",
    "        executor.submit(dummy_task, 0, int(3e6))\n",
    "t_end = time.time()\n",
    "print(f\"Elapsed time of ten times calls = {t_end - t_start}\")"
   ]
  }
 ],
 "metadata": {
  "kernelspec": {
   "display_name": "MLC_Env",
   "language": "python",
   "name": "python3"
  },
  "language_info": {
   "codemirror_mode": {
    "name": "ipython",
    "version": 3
   },
   "file_extension": ".py",
   "mimetype": "text/x-python",
   "name": "python",
   "nbconvert_exporter": "python",
   "pygments_lexer": "ipython3",
   "version": "3.12.2"
  }
 },
 "nbformat": 4,
 "nbformat_minor": 5
}
